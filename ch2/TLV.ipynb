{
 "cells": [
  {
   "cell_type": "code",
   "execution_count": 1,
   "metadata": {},
   "outputs": [],
   "source": [
    "import numpy as np\n",
    "import seaborn as sns"
   ]
  },
  {
   "cell_type": "markdown",
   "metadata": {},
   "source": [
    "##### Evaluating Exposures to Volatile Toxicants by Monitoring\n"
   ]
  },
  {
   "cell_type": "markdown",
   "metadata": {},
   "source": []
  },
  {
   "cell_type": "markdown",
   "metadata": {},
   "source": [
    "*For continuous concentration data C(t), the TWA (time-weighted average) concentration is computed using the equation*\n",
    "$\\text{TWA} = \\frac{1}{8} \\int_{\\text{start}}^{\\text{end}} c(t) \\, dt $\n"
   ]
  },
  {
   "cell_type": "markdown",
   "metadata": {},
   "source": [
    "#### equation 2\n",
    "\n",
    "$$\n",
    "\\text{Combined Exposure } \\quad \\sum_{i=1}^n (C_i) \\cdot (\\text{TLV-TWA}) \n",
    "\n",
    "$$\n"
   ]
  },
  {
   "cell_type": "markdown",
   "metadata": {},
   "source": []
  },
  {
   "cell_type": "code",
   "execution_count": 14,
   "metadata": {},
   "outputs": [
    {
     "name": "stdout",
     "output_type": "stream",
     "text": [
      "Limit Exceced with a value of 6.4 Because this quantity is greater than 1, the TLV-TWA has been exceeded.\n"
     ]
    }
   ],
   "source": [
    "given = \"Air contains 5 ppm of diethyl amine (TLV-TWA of 5 ppm)\\\n",
    "    , 20 ppm of cyclohexanol (TLV-TWA of 50 ppm)\\\n",
    "        , and 10 ppm of propylen oxide (TLV-TWA of 2 ppm)\\\n",
    "    \"\n",
    "\n",
    "propblem = \"What is the mixture’s TLV-TWA, and has this level been exceeded?\"\n",
    "\n",
    "#from the problem we can see that there's 3 cheicamls,\n",
    "# and all have concetrion(contett,tlv)\n",
    "\n",
    "diethyl_amine = \"5\" #ppm\n",
    "tlv_twa_amine = \"5\" # ppm\n",
    "\n",
    "cyclohexanol = \"20\" #ppm\n",
    "\n",
    "cyclohexanol_tlv = \"50\" #ppm\n",
    "\n",
    "\n",
    "propylen_oxide = \"10\" #ppm\n",
    "propylenoxide_tlv = \"2\" #ppm\n",
    "\n",
    "mixture = (\n",
    "    int(diethyl_amine) / int(tlv_twa_amine) +\n",
    "    int(cyclohexanol) / int(cyclohexanol_tlv) +\n",
    "    int(propylen_oxide) / int(propylenoxide_tlv)\n",
    ") \n",
    "exposed = False\n",
    "if mixture > 1:\n",
    "    exposed = True\n",
    "\n",
    "if exposed:\n",
    "    print(f\"Limit Exceced with a value of {mixture} Because this quantity is greater than 1, the TLV-TWA has been exceeded.\")\n"
   ]
  },
  {
   "cell_type": "code",
   "execution_count": 25,
   "metadata": {},
   "outputs": [
    {
     "name": "stdout",
     "output_type": "stream",
     "text": [
      "155.0 Because the TLV for toluene is 20 ppm (Appendix E), the worker is overexposed.\n"
     ]
    }
   ],
   "source": [
    "problem = \"Determine the 8-hour TWA worker exposure if the worker is exposed to toluene vapors\"\n",
    "## using equation \n",
    "given = [{\n",
    "    \"Duration\": [2, 2, 4],\n",
    "    \"concentration\": [110, 330, 90],\n",
    "    \"time\":8,\n",
    "    \"toluene_limit\":0.16,\n",
    "}]\n",
    "\n",
    "Duration = given[0][\"Duration\"]\n",
    "concentration = given[0][\"concentration\"]\n",
    "\n",
    "exposed = 0\n",
    "\n",
    "for conn , durr in zip(concentration , Duration):\n",
    "    exposed += conn * durr\n",
    "\n",
    "resuls = (exposed) / given[0]['time']\n",
    "\n",
    "is_exposed = False\n",
    "\n",
    "if resuls > given[0]['toluene_limit']:\n",
    "    is_exposed = True\n",
    "\n",
    "if is_exposed:\n",
    "    print(resuls,\"Because the TLV for toluene is 20 ppm (Appendix E), the worker is overexposed.\")"
   ]
  },
  {
   "cell_type": "code",
   "execution_count": null,
   "metadata": {},
   "outputs": [],
   "source": []
  }
 ],
 "metadata": {
  "kernelspec": {
   "display_name": "Python 3",
   "language": "python",
   "name": "python3"
  },
  "language_info": {
   "codemirror_mode": {
    "name": "ipython",
    "version": 3
   },
   "file_extension": ".py",
   "mimetype": "text/x-python",
   "name": "python",
   "nbconvert_exporter": "python",
   "pygments_lexer": "ipython3",
   "version": "3.9.6"
  }
 },
 "nbformat": 4,
 "nbformat_minor": 2
}
