{
 "cells": [
  {
   "cell_type": "code",
   "execution_count": 1,
   "metadata": {},
   "outputs": [],
   "source": [
    "import math\n",
    "import numpy as np\n",
    "import statistics as st"
   ]
  },
  {
   "cell_type": "markdown",
   "metadata": {},
   "source": [
    "## Evaluating Worker Exposures to Noise\n",
    "\n",
    "Noise-related issues are prevalent in chemical plants, and industrial hygienists play a crucial role in assessing and addressing these problems. When there is a suspicion of a noise-related problem, it is imperative for the industrial hygienist to promptly conduct the necessary noise measurements and formulate recommendations.\n",
    "\n",
    "### Noise Levels and Calculation\n",
    "\n",
    "Noise levels are quantified in decibels (dB), which is a relative logarithmic scale employed to compare the intensities of two sounds. If the intensity of one sound is denoted as \\(I\\) and the intensity of another sound is \\(I_0\\), the difference in intensity levels in decibels is given by:\n",
    "\n",
    "<math xmlns:m=\"http://www.w3.org/1998/Math/MathML\" alttext=\"\"><mrow><mtable><mtr><mtd><mtext>Noise&nbsp;intensity(dB)&nbsp;</mtext><mo>=</mo><mtext>&nbsp;</mtext><mn>10</mn><mo>⋅</mo><msub><mrow><mi>log</mi></mrow><mrow><mn>10</mn></mrow></msub><mrow><mo>(</mo><mstyle scriptlevel=\"0\" displaystyle=\"true\"><mfrac><mrow><mi>I</mi></mrow><mrow><msub><mrow><mi>I</mi></mrow><mrow><mn>0</mn></mrow></msub></mrow></mfrac></mstyle><mo>)</mo></mrow></mtd><mtd><mrow><mo>(</mo><mn>3-5</mn><mo>)</mo></mrow></mtd></mtr></mtable></mrow></math>\n",
    "\n",
    "In simpler terms, a sound that is ten times as intense as another sound will have an intensity level that is 10 dB higher. A reference scale for absolute sound (measured in dBA for absolute decibels) is established, with the hearing threshold set at 0 dBA.\n",
    "\n",
    "### Source of Noise\n",
    "\n",
    "| Sound Source          | Sound Intensity Level (dB) |\n",
    "|-----------------------|-----------------------------|\n",
    "| Riveting (painful)    | 120                         |\n",
    "| Punch press           | 110                         |\n",
    "| Passing truck         | 100                         |\n",
    "| Factory               | 90                          |\n",
    "| Noisy office          | 80                          |\n",
    "| Conventional speech   | 60                          |\n",
    "| Private office        | 50                          |\n",
    "| Average residence     | 40                          |\n",
    "| Recording studio      | 30                          |\n",
    "| Whisper               | 20                          |\n",
    "| Threshold of good hearing | 10                        |\n",
    "\n",
    "### Permissible Noise Exposure Levels (Table 3-8)\n",
    "\n",
    "| Sound Level (dBA) | Maximum Exposure (hr/day) |\n",
    "|-------------------|---------------------------|\n",
    "| 85                | 16                        |\n",
    "| 88                | 10.5                      |\n",
    "| 90                | 8                         |\n",
    "| 91                | 7                         |\n",
    "| 92                | 6                         |\n",
    "| 94                | 4.8                       |\n",
    "| 95                | 4                         |\n",
    "| 97                | 3                         |\n",
    "| 100               | 2                         |\n",
    "| 102               | 1.5                       |\n",
    "\n",
    "*Source: \"Permissible Noise Exposures,\" [OSHA Standards](www.osha.gov/pls/oshaweb/owadisp.show_document?p_table=standards&p_id=9735).*\n"
   ]
  },
  {
   "cell_type": "markdown",
   "metadata": {},
   "source": [
    "## problem\n",
    "\n",
    "Determine whether the following noise level is permissible with no additional controls:\n"
   ]
  },
  {
   "cell_type": "markdown",
   "metadata": {},
   "source": [
    "<math xmlns=\"http://www.w3.org/1998/Math/MathML\" xmlns:m=\"http://www.w3.org/1998/Math/MathML\" alttext=\"\">\n",
    "  <mrow>\n",
    "    <mtable>\n",
    "      <mtr>\n",
    "        <mtd>\n",
    "          <munderover>\n",
    "            <mrow>\n",
    "              <mi mathvariant=\"normal\">&#x3A3;</mi>\n",
    "            </mrow>\n",
    "            <mrow>\n",
    "              <mi>i</mi>\n",
    "              <mo>=</mo>\n",
    "              <mn>1</mn>\n",
    "            </mrow>\n",
    "            <mrow>\n",
    "              <mi>n</mi>\n",
    "            </mrow>\n",
    "          </munderover>\n",
    "          <mstyle scriptlevel=\"0\" displaystyle=\"true\">\n",
    "            <mstyle scriptlevel=\"0\" displaystyle=\"true\">\n",
    "              <mfrac>\n",
    "                <mrow>\n",
    "                  <msub>\n",
    "                    <mrow>\n",
    "                      <mi>C</mi>\n",
    "                    </mrow>\n",
    "                    <mrow>\n",
    "                      <mi>i</mi>\n",
    "                    </mrow>\n",
    "                  </msub>\n",
    "                </mrow>\n",
    "                <mrow>\n",
    "                  <mo>(</mo>\n",
    "                  <msub>\n",
    "                    <mrow>\n",
    "                      <mtext>TLV-TWA</mtext>\n",
    "                      <mo>)</mo>\n",
    "                    </mrow>\n",
    "                    <mrow>\n",
    "                      <mi>i</mi>\n",
    "                    </mrow>\n",
    "                  </msub>\n",
    "                </mrow>\n",
    "              </mfrac>\n",
    "            </mstyle>\n",
    "          </mstyle>\n",
    "        </mtd>\n",
    "        <mtd>\n",
    "          <mrow>\n",
    "            <mo>(</mo>\n",
    "            <mn>3-3</mn>\n",
    "            <mo>)</mo>\n",
    "          </mrow>\n",
    "        </mtd>\n",
    "      </mtr>\n",
    "    </mtable>\n",
    "  </mrow>\n",
    "</math>"
   ]
  },
  {
   "cell_type": "code",
   "execution_count": 32,
   "metadata": {},
   "outputs": [
    {
     "name": "stdout",
     "output_type": "stream",
     "text": [
      "1.975\n"
     ]
    }
   ],
   "source": [
    "\n",
    "\n",
    "results = [\n",
    "    {\n",
    "        \"Noise Level\" : [85 , 95 , 110], # dBA\n",
    "        \"Duration\" : [3.6 , 3.0 , 0.5], # hr \n",
    "        \"Threshold\": [16 , 4 , 0.5], # hr\n",
    "    }\n",
    "]\n",
    "\n",
    "\n",
    "Duration = results[0]['Duration']\n",
    "Threshold = results[0]['Threshold']\n",
    "\n",
    "res = 0\n",
    "\n",
    "for x,y in zip(Duration , Threshold):\n",
    "    res += x/y\n",
    "\n",
    "print(Because the sum exceeds 1.0, employees in this environment are immediately required to don hearing protection)"
   ]
  }
 ],
 "metadata": {
  "kernelspec": {
   "display_name": "Python 3",
   "language": "python",
   "name": "python3"
  },
  "language_info": {
   "codemirror_mode": {
    "name": "ipython",
    "version": 3
   },
   "file_extension": ".py",
   "mimetype": "text/x-python",
   "name": "python",
   "nbconvert_exporter": "python",
   "pygments_lexer": "ipython3",
   "version": "3.11.4"
  }
 },
 "nbformat": 4,
 "nbformat_minor": 2
}
